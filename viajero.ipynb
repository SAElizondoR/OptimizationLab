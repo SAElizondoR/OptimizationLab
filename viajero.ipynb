{
 "cells": [
  {
   "cell_type": "code",
   "execution_count": 5,
   "metadata": {},
   "outputs": [],
   "source": [
    "import numpy as np\n",
    "from itertools import permutations"
   ]
  },
  {
   "cell_type": "code",
   "execution_count": 7,
   "metadata": {},
   "outputs": [],
   "source": [
    "# Definir la matriz de distancias entre las ciudades\n",
    "distancias = np.array([\n",
    "    [0, 10, 15, 20],    # Distancias desde la ciudad 0\n",
    "    [10, 0, 35, 25],    # Distancias desde la ciudad 1\n",
    "    [15, 35, 0, 30],    # Distancias desde la ciudad 2\n",
    "    [20, 25, 30, 0],    # Distancias desde la ciudad 3\n",
    "])\n",
    "\n",
    "N = len(distancias) # Número de ciudades"
   ]
  },
  {
   "cell_type": "code",
   "execution_count": 8,
   "metadata": {},
   "outputs": [],
   "source": [
    "# Inicializar las variables par almacenar la mejor ruta y la distancia mínima\n",
    "mejor_ruta = None\n",
    "distancia_minima = float('inf')\n",
    "\n",
    "# Generar todas las permutaciones de las ciudades,\n",
    "# excluyendo la ciudad inicial (0)\n",
    "for permutacion in permutations(range(1, N)):\n",
    "    # Construir la ruta completa que regresa a la ciudad inicial\n",
    "    ruta = (0,) + permutacion + (0,)\n",
    "\n",
    "    # Calcular la distancia total para esta ruta\n",
    "    distancia_total = np.sum(\n",
    "        distancias[np.array(ruta[:-1]), np.array(ruta[1:])])\n",
    "\n",
    "    # Actualizar la mejor solución si se encuentra una distancia menor\n",
    "    if distancia_total < distancia_minima:\n",
    "        distancia_minima = distancia_total\n",
    "        mejor_ruta = ruta"
   ]
  },
  {
   "cell_type": "code",
   "execution_count": 9,
   "metadata": {},
   "outputs": [
    {
     "name": "stdout",
     "output_type": "stream",
     "text": [
      "Ruta óptima: (0, 1, 3, 2, 0)\n",
      "Distancia mínima: 80\n"
     ]
    }
   ],
   "source": [
    "# Mostrar la mejor solución\n",
    "print(f\"Ruta óptima: {mejor_ruta}\")\n",
    "print(f\"Distancia mínima: {distancia_minima}\")"
   ]
  }
 ],
 "metadata": {
  "kernelspec": {
   "display_name": "Python 3",
   "language": "python",
   "name": "python3"
  },
  "language_info": {
   "codemirror_mode": {
    "name": "ipython",
    "version": 3
   },
   "file_extension": ".py",
   "mimetype": "text/x-python",
   "name": "python",
   "nbconvert_exporter": "python",
   "pygments_lexer": "ipython3",
   "version": "3.12.8"
  }
 },
 "nbformat": 4,
 "nbformat_minor": 2
}
