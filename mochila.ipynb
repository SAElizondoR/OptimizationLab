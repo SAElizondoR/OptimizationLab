{
 "cells": [
  {
   "cell_type": "code",
   "execution_count": 15,
   "metadata": {},
   "outputs": [],
   "source": [
    "# Definir los objetos (peso, ganancia)\n",
    "W = [2, 1, 3, 1.5, 4]\n",
    "P = [5, 7, 5, 4, 10]\n",
    "C = 8   # Capacidad de la mochila\n",
    "N = len(W)"
   ]
  },
  {
   "cell_type": "code",
   "execution_count": 19,
   "metadata": {},
   "outputs": [],
   "source": [
    "# Ordenar los objetos por relación ganancia/peso\n",
    "objetos = sorted(\n",
    "    [(P[i], W[i], i) for i in range(N)],\n",
    "    key=lambda x: x[0] / x[1],\n",
    "    reverse=True\n",
    ")"
   ]
  },
  {
   "cell_type": "code",
   "execution_count": 20,
   "metadata": {},
   "outputs": [],
   "source": [
    "# Inicializar la mejor ganancia\n",
    "mejor_ganancia = 0\n",
    "mejor_combinacion = None\n",
    "\n",
    "# Generar todas las combinaciones posibles\n",
    "for i in range(1 << N):   # 2^N combinaciones posibles\n",
    "    peso_total = 0\n",
    "    ganancia_total = 0\n",
    "    seleccion = []\n",
    "\n",
    "    # Evaluar cada objeto en la combinación\n",
    "    for j in range(N):\n",
    "        if (i >> j) & 1: # Si el objeto j es seleccionado\n",
    "            _, peso, idx = objetos[j]\n",
    "            peso_total += peso\n",
    "            ganancia_total += P[idx]\n",
    "            seleccion.append(idx)\n",
    "\n",
    "            # Salir si el peso supera la capacidad\n",
    "            if peso_total > C:\n",
    "                break\n",
    "    \n",
    "    # Actualizar la mejor solución si es válida\n",
    "    if peso_total <= C and ganancia_total > mejor_ganancia:\n",
    "        mejor_ganancia = ganancia_total\n",
    "        mejor_combinacion = seleccion"
   ]
  },
  {
   "cell_type": "code",
   "execution_count": 21,
   "metadata": {},
   "outputs": [
    {
     "name": "stdout",
     "output_type": "stream",
     "text": [
      "Mejor ganancia: 22\n",
      "Objetos seleccionados: [0, 1, 4]\n"
     ]
    }
   ],
   "source": [
    "# Mostrar la mejor solución\n",
    "print(f\"Mejor ganancia: {mejor_ganancia}\")\n",
    "print(f\"Objetos seleccionados: {sorted(mejor_combinacion)}\")"
   ]
  }
 ],
 "metadata": {
  "kernelspec": {
   "display_name": "Python 3",
   "language": "python",
   "name": "python3"
  },
  "language_info": {
   "codemirror_mode": {
    "name": "ipython",
    "version": 3
   },
   "file_extension": ".py",
   "mimetype": "text/x-python",
   "name": "python",
   "nbconvert_exporter": "python",
   "pygments_lexer": "ipython3",
   "version": "3.12.8"
  }
 },
 "nbformat": 4,
 "nbformat_minor": 2
}
